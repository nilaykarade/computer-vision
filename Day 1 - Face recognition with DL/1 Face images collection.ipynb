{
 "cells": [
  {
   "cell_type": "code",
   "execution_count": 1,
   "id": "f50a2e24",
   "metadata": {
    "collapsed": true
   },
   "outputs": [
    {
     "name": "stdout",
     "output_type": "stream",
     "text": [
      "Requirement already satisfied: opencv-python in c:\\users\\nilay\\anaconda3\\lib\\site-packages (4.7.0.72)\n",
      "Requirement already satisfied: numpy>=1.19.3 in c:\\users\\nilay\\anaconda3\\lib\\site-packages (from opencv-python) (1.23.5)\n"
     ]
    },
    {
     "name": "stderr",
     "output_type": "stream",
     "text": [
      "WARNING: Ignoring invalid distribution -rotobuf (c:\\users\\nilay\\anaconda3\\lib\\site-packages)\n",
      "WARNING: Ignoring invalid distribution -rotobuf (c:\\users\\nilay\\anaconda3\\lib\\site-packages)\n",
      "WARNING: Ignoring invalid distribution -rotobuf (c:\\users\\nilay\\anaconda3\\lib\\site-packages)\n",
      "WARNING: Ignoring invalid distribution -rotobuf (c:\\users\\nilay\\anaconda3\\lib\\site-packages)\n",
      "WARNING: Ignoring invalid distribution -rotobuf (c:\\users\\nilay\\anaconda3\\lib\\site-packages)\n",
      "WARNING: Ignoring invalid distribution -rotobuf (c:\\users\\nilay\\anaconda3\\lib\\site-packages)\n"
     ]
    }
   ],
   "source": [
    "!pip install opencv-python"
   ]
  },
  {
   "cell_type": "code",
   "execution_count": 1,
   "id": "b7d74cb0",
   "metadata": {},
   "outputs": [],
   "source": [
    "import cv2"
   ]
  },
  {
   "cell_type": "code",
   "execution_count": 2,
   "id": "8a8b0fb2",
   "metadata": {},
   "outputs": [
    {
     "data": {
      "text/plain": [
       "'\\nwhile True:\\n    captured_image=cv2.VideoCapture(0)\\n    _,image=caputured_image.read()\\n    cv2.imshow(\"Capured image\",image)\\n    if cv2.waitKey(1)==ord(\\'q\\'):\\n        break\\ncaptured_image.release()\\ncv2.destroyAllWindows()\\n'"
      ]
     },
     "execution_count": 2,
     "metadata": {},
     "output_type": "execute_result"
    }
   ],
   "source": [
    "#code teplate for image/video capturing from the web cam\n",
    "\"\"\"\n",
    "while True:\n",
    "    captured_image=cv2.VideoCapture(0)\n",
    "    _,image=caputured_image.read()\n",
    "    cv2.imshow(\"Capured image\",image)\n",
    "    if cv2.waitKey(1)==ord('q'):\n",
    "        break\n",
    "captured_image.release()\n",
    "cv2.destroyAllWindows()\n",
    "\"\"\""
   ]
  },
  {
   "cell_type": "code",
   "execution_count": 3,
   "id": "bf5844c0",
   "metadata": {},
   "outputs": [],
   "source": [
    "face_classifier=cv2.CascadeClassifier(\"haarcascade_frontalface_default.xml\")"
   ]
  },
  {
   "cell_type": "code",
   "execution_count": 4,
   "id": "7c5bd704",
   "metadata": {},
   "outputs": [
    {
     "name": "stderr",
     "output_type": "stream",
     "text": [
      "<>:3: SyntaxWarning: \"is\" with a literal. Did you mean \"==\"?\n",
      "<>:3: SyntaxWarning: \"is\" with a literal. Did you mean \"==\"?\n",
      "C:\\Users\\nilay\\AppData\\Local\\Temp\\ipykernel_5892\\2011689841.py:3: SyntaxWarning: \"is\" with a literal. Did you mean \"==\"?\n",
      "  if faces is ():\n"
     ]
    }
   ],
   "source": [
    "def get_face(img):\n",
    "    faces= face_classifier.detectMultiScale(img)\n",
    "    if faces is ():\n",
    "        return None\n",
    "    \n",
    "    for (x,y,w,h) in faces:\n",
    "        x=x-10\n",
    "        y=y-10\n",
    "        cropped_img=img[y:y+h+50,x:x+w+50]\n",
    "    return cropped_img\n",
    "            "
   ]
  },
  {
   "cell_type": "code",
   "execution_count": 8,
   "id": "d0b11c3e",
   "metadata": {
    "scrolled": true
   },
   "outputs": [
    {
     "name": "stdout",
     "output_type": "stream",
     "text": [
      "Enter person namenilay\n",
      "image 1 captured\n",
      "Face not found\n",
      "image 2 captured\n",
      "image 3 captured\n",
      "Face not found\n",
      "image 4 captured\n",
      "image 5 captured\n"
     ]
    }
   ],
   "source": [
    "counter=0\n",
    "person_name=input(\"Enter person name\")\n",
    "while True:\n",
    "    captured_image=cv2.VideoCapture(0)\n",
    "    _,image=captured_image.read()\n",
    "    \n",
    "    #getting face part cropped\n",
    "    if get_face(image) is not None:\n",
    "        counter=counter+1\n",
    "        face=cv2.resize(get_face(image),(400,400))\n",
    "        \n",
    "        #save that crroped image\n",
    "        file_name='./Images/'+person_name+str(counter)+'.jpg'\n",
    "        cv2.imwrite(file_name,face)\n",
    "        \n",
    "        #show image counter\n",
    "        cv2.putText(face,str(counter),(50,50),cv2.FONT_HERSHEY_COMPLEX,1,(0,255,0),2)\n",
    "    \n",
    "    \n",
    "        cv2.imshow(\"Capured image\",face)\n",
    "        print(\"image \"+str(counter)+\" captured\")\n",
    "    \n",
    "    else:\n",
    "        print(\"Face not found\")\n",
    "        cv2.putText(face,str(counter),(50,50),cv2.FONT_HERSHEY_COMPLEX,1,(0,255,0),2)\n",
    "        cv2.imshow(\"Capured image\",face)\n",
    "    \n",
    "    if cv2.waitKey(1)==ord('q') or counter==5:\n",
    "        break\n",
    "captured_image.release()\n",
    "cv2.destroyAllWindows()"
   ]
  },
  {
   "cell_type": "code",
   "execution_count": null,
   "id": "6fce4e77",
   "metadata": {},
   "outputs": [],
   "source": []
  }
 ],
 "metadata": {
  "kernelspec": {
   "display_name": "Python 3 (ipykernel)",
   "language": "python",
   "name": "python3"
  },
  "language_info": {
   "codemirror_mode": {
    "name": "ipython",
    "version": 3
   },
   "file_extension": ".py",
   "mimetype": "text/x-python",
   "name": "python",
   "nbconvert_exporter": "python",
   "pygments_lexer": "ipython3",
   "version": "3.10.9"
  }
 },
 "nbformat": 4,
 "nbformat_minor": 5
}
